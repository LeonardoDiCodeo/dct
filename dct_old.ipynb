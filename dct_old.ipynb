{
 "cells": [
  {
   "cell_type": "code",
   "execution_count": 39,
   "id": "2b2c13ab-1f70-4a6b-b424-9d91c4bf0e08",
   "metadata": {
    "scrolled": true
   },
   "outputs": [],
   "source": [
    "import matplotlib.pyplot as plt\n",
    "import numpy as np\n",
    "\n",
    "def plotcos(n):\n",
    "    x = np.linspace(0,n,1000)\n",
    "    fig, ax = plt.subplots()\n",
    "    for i in range(n):\n",
    "        ax.plot(x, np.cos(np.pi*1/n*(x+0.5)*i))\n",
    "    plt.show()\n",
    "\n",
    "def plotcossum(n):\n",
    "    x = np.linspace(0,n-1,n)\n",
    "    fig, ax = plt.subplots()\n",
    "    y = np.cos(np.pi*1/n*(x)*0)\n",
    "    for i in range(1,n):\n",
    "        y += np.cos(np.pi*1/n*(x+0.5)*i)\n",
    "    ax.plot(x, y, '.')\n",
    "    plt.show()"
   ]
  },
  {
   "cell_type": "code",
   "execution_count": 22,
   "id": "5b330e7e-2d14-45db-8b29-01c8bf505d66",
   "metadata": {},
   "outputs": [],
   "source": [
    "s = np.array([1,2,4,7,8,4,3,2])"
   ]
  },
  {
   "cell_type": "code",
   "execution_count": 23,
   "id": "43444f1b-f12b-4355-af99-f95b09d57d8d",
   "metadata": {},
   "outputs": [],
   "source": [
    "b_0 = [np.sqrt(1/8)*np.cos(((2*n+1)*0*np.pi)/16) for n in range(8)]\n",
    "b_1 = [np.sqrt(2/8)*np.cos(((2*n+1)*1*np.pi)/16) for n in range(8)]\n",
    "b_2 = [np.sqrt(2/8)*np.cos(((2*n+1)*2*np.pi)/16) for n in range(8)]\n",
    "b_3 = [np.sqrt(2/8)*np.cos(((2*n+1)*3*np.pi)/16) for n in range(8)]\n",
    "b_4 = [np.sqrt(2/8)*np.cos(((2*n+1)*4*np.pi)/16) for n in range(8)]\n",
    "b_5 = [np.sqrt(2/8)*np.cos(((2*n+1)*5*np.pi)/16) for n in range(8)]\n",
    "b_6 = [np.sqrt(2/8)*np.cos(((2*n+1)*6*np.pi)/16) for n in range(8)]\n",
    "b_7 = [np.sqrt(2/8)*np.cos(((2*n+1)*7*np.pi)/16) for n in range(8)]"
   ]
  },
  {
   "cell_type": "code",
   "execution_count": 24,
   "id": "7bbdc399-28dc-4dcf-9415-eacb917c5b6b",
   "metadata": {},
   "outputs": [
    {
     "data": {
      "text/plain": [
       "np.float64(1.0)"
      ]
     },
     "execution_count": 24,
     "metadata": {},
     "output_type": "execute_result"
    }
   ],
   "source": [
    "np.linalg.norm(b_7)"
   ]
  },
  {
   "cell_type": "code",
   "execution_count": 25,
   "id": "d2ac153a-850d-4717-91c1-3eb722302228",
   "metadata": {},
   "outputs": [
    {
     "data": {
      "text/plain": [
       "matrix([[ 0.35355339,  0.35355339,  0.35355339,  0.35355339,  0.35355339,\n",
       "          0.35355339,  0.35355339,  0.35355339],\n",
       "        [ 0.49039264,  0.41573481,  0.27778512,  0.09754516, -0.09754516,\n",
       "         -0.27778512, -0.41573481, -0.49039264],\n",
       "        [ 0.46193977,  0.19134172, -0.19134172, -0.46193977, -0.46193977,\n",
       "         -0.19134172,  0.19134172,  0.46193977],\n",
       "        [ 0.41573481, -0.09754516, -0.49039264, -0.27778512,  0.27778512,\n",
       "          0.49039264,  0.09754516, -0.41573481],\n",
       "        [ 0.35355339, -0.35355339, -0.35355339,  0.35355339,  0.35355339,\n",
       "         -0.35355339, -0.35355339,  0.35355339],\n",
       "        [ 0.27778512, -0.49039264,  0.09754516,  0.41573481, -0.41573481,\n",
       "         -0.09754516,  0.49039264, -0.27778512],\n",
       "        [ 0.19134172, -0.46193977,  0.46193977, -0.19134172, -0.19134172,\n",
       "          0.46193977, -0.46193977,  0.19134172],\n",
       "        [ 0.09754516, -0.27778512,  0.41573481, -0.49039264,  0.49039264,\n",
       "         -0.41573481,  0.27778512, -0.09754516]])"
      ]
     },
     "execution_count": 25,
     "metadata": {},
     "output_type": "execute_result"
    }
   ],
   "source": [
    "C = np.matrix([b_0, b_1, b_2, b_3, b_4, b_5, b_6, b_7])\n",
    "C"
   ]
  },
  {
   "cell_type": "code",
   "execution_count": 31,
   "id": "09057fed-13bb-44b6-9d53-267742b96221",
   "metadata": {},
   "outputs": [
    {
     "data": {
      "text/plain": [
       "matrix([[10.96015511, -1.00367261, -6.11730234, -0.04040453,  1.76776695,\n",
       "         -0.20312728, -0.9102813 ,  0.6706326 ]])"
      ]
     },
     "execution_count": 31,
     "metadata": {},
     "output_type": "execute_result"
    }
   ],
   "source": [
    "t = np.matmul(C,s)\n",
    "t_2 = np.matrix([[10.96015511, -1.00367261, -6.11730234, 0,  1.76776695,\n",
    "         0, 0 ,  0 ]])\n",
    "t\n"
   ]
  },
  {
   "cell_type": "code",
   "execution_count": 32,
   "id": "1864baa8-b4dc-4606-9738-e1039e6b09ce",
   "metadata": {},
   "outputs": [
    {
     "data": {
      "text/plain": [
       "matrix([[ 0.35355339,  0.49039264,  0.46193977,  0.41573481,  0.35355339,\n",
       "          0.27778512,  0.19134172,  0.09754516],\n",
       "        [ 0.35355339,  0.41573481,  0.19134172, -0.09754516, -0.35355339,\n",
       "         -0.49039264, -0.46193977, -0.27778512],\n",
       "        [ 0.35355339,  0.27778512, -0.19134172, -0.49039264, -0.35355339,\n",
       "          0.09754516,  0.46193977,  0.41573481],\n",
       "        [ 0.35355339,  0.09754516, -0.46193977, -0.27778512,  0.35355339,\n",
       "          0.41573481, -0.19134172, -0.49039264],\n",
       "        [ 0.35355339, -0.09754516, -0.46193977,  0.27778512,  0.35355339,\n",
       "         -0.41573481, -0.19134172,  0.49039264],\n",
       "        [ 0.35355339, -0.27778512, -0.19134172,  0.49039264, -0.35355339,\n",
       "         -0.09754516,  0.46193977, -0.41573481],\n",
       "        [ 0.35355339, -0.41573481,  0.19134172,  0.09754516, -0.35355339,\n",
       "          0.49039264, -0.46193977,  0.27778512],\n",
       "        [ 0.35355339, -0.49039264,  0.46193977, -0.41573481,  0.35355339,\n",
       "         -0.27778512,  0.19134172, -0.09754516]])"
      ]
     },
     "execution_count": 32,
     "metadata": {},
     "output_type": "execute_result"
    }
   ],
   "source": [
    "T_t = C.transpose()\n",
    "T_t"
   ]
  },
  {
   "cell_type": "code",
   "execution_count": 33,
   "id": "15830ec7-ee76-409f-b360-59c563695019",
   "metadata": {},
   "outputs": [
    {
     "data": {
      "text/plain": [
       "matrix([[1.18198113],\n",
       "        [1.66224324],\n",
       "        [4.14168982],\n",
       "        [7.22792181],\n",
       "        [7.42372862],\n",
       "        [4.69930044],\n",
       "        [2.49676651],\n",
       "        [2.16636845]])"
      ]
     },
     "execution_count": 33,
     "metadata": {},
     "output_type": "execute_result"
    }
   ],
   "source": [
    "out = np.matmul(T_t,np.transpose(t))\n",
    "out\n",
    "out_2 = np.matmul(T_t,np.transpose(t_2))\n",
    "out_2"
   ]
  },
  {
   "cell_type": "code",
   "execution_count": 38,
   "id": "e9d5e4ca-fe38-45f0-bb1a-bebfd6e34d64",
   "metadata": {},
   "outputs": [
    {
     "data": {
      "image/png": "[encoded data removed]",
      "text/plain": [
       "<Figure size 640x480 with 1 Axes>"
      ]
     },
     "metadata": {},
     "output_type": "display_data"
    }
   ],
   "source": [
    "fig, ax = plt.subplots()\n",
    "x = np.linspace(0, 7, 8)\n",
    "y = out_2\n",
    "ax.plot(x,s, 'o', label='Original')\n",
    "ax.plot(x,y, 'o', label='Komprimiert(?)')\n",
    "ax.legend(['Original', 'Komprimiert(?)'])\n",
    "plt.savefig('figure1.svg')"
   ]
  }
 ],
 "metadata": {
  "kernelspec": {
   "display_name": "Python 3 (ipykernel)",
   "language": "python",
   "name": "python3"
  },
  "language_info": {
   "codemirror_mode": {
    "name": "ipython",
    "version": 3
   },
   "file_extension": ".py",
   "mimetype": "text/x-python",
   "name": "python",
   "nbconvert_exporter": "python",
   "pygments_lexer": "ipython3",
   "version": "3.12.5"
  }
 },
 "nbformat": 4,
 "nbformat_minor": 5
}
