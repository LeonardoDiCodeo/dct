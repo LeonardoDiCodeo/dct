{
 "cells": [
  {
   "cell_type": "markdown",
   "id": "0dfcaf1b-69c6-4126-995b-fa77761700f3",
   "metadata": {},
   "source": [
    "### Imports"
   ]
  },
  {
   "cell_type": "code",
   "execution_count": 1,
   "id": "d0f98f55-400f-4c9b-bb19-6e0fa59536ab",
   "metadata": {},
   "outputs": [],
   "source": [
    "import matplotlib.pyplot as plt\n",
    "import numpy as np\n",
    "from mpl_toolkits.mplot3d import axes3d\n",
    "import scipy as sc\n",
    "from PIL import Image\n",
    "from skimage import color\n",
    "from skimage import io\n",
    "from matplotlib import colors"
   ]
  },
  {
   "cell_type": "markdown",
   "id": "7a7f58d2-e0f9-4028-b1bf-83da5512f4fd",
   "metadata": {},
   "source": [
    "### 1D functions"
   ]
  },
  {
   "cell_type": "code",
   "execution_count": 2,
   "id": "33ecc4b1-bef8-43d4-8547-c3f73fc223ce",
   "metadata": {},
   "outputs": [],
   "source": [
    "# calculates nth Element of kth basis vector\n",
    "def calc_bkn(N,k,n):\n",
    "    if k == 0:\n",
    "        alpha = np.sqrt(1/N)\n",
    "        return alpha * np.cos(((2*n+1)*k*np.pi)/(2*N))\n",
    "    alpha = np.sqrt(2/N)\n",
    "    return alpha * np.cos(((2*n+1)*k*np.pi)/(2*N))\n",
    "\n",
    "# calculates kth basis vector\n",
    "def calc_bk(N,k):\n",
    "    bk = list(range(N))\n",
    "    for i in range(N):\n",
    "        bk[i] = calc_bkn(N,k,i)\n",
    "    return np.array(bk)\n",
    "\n",
    "# calculates C\n",
    "def calc_C(N):\n",
    "    C = np.eye(N)\n",
    "    for i in range(N):\n",
    "        for j in range(N):\n",
    "            C[i,j] = calc_bkn(N,i,j)\n",
    "    return C\n",
    "    \n",
    "# calculates dct of s\n",
    "def transform(s):\n",
    "    C = calc_C(len(s))\n",
    "    return np.matmul(C,s)\n",
    "\n",
    "# calculates back transformation\n",
    "def backtransform(t):\n",
    "    CT = calc_C(len(s)).transpose()\n",
    "    return np.matmul(CT,t)\n",
    "\n",
    "# calculates energy of vektor based on parsevals theorem\n",
    "def parseval(v):\n",
    "    energy = np.inner(v,v)\n",
    "    return energy\n"
   ]
  },
  {
   "cell_type": "markdown",
   "id": "ba0c2bf4-5636-439d-ba62-ca6e39b096ee",
   "metadata": {},
   "source": [
    "### 2D functions"
   ]
  },
  {
   "cell_type": "code",
   "execution_count": 3,
   "id": "5fba6e47-67c4-4927-9c97-7c1022ee6e08",
   "metadata": {},
   "outputs": [],
   "source": [
    "# calculates 2D basis img at index (k,l)\n",
    "def calc_Bkl(N,k,l):\n",
    "    return np.array(np.outer(calc_bk(N,k), calc_bk(N,l).transpose()))\n",
    "\n",
    "def dct2D(imgarr):\n",
    "    N = imgarr.shape[0]\n",
    "    dct = np.eye(N)\n",
    "    for i in range(N):\n",
    "        for j in range(N):\n",
    "            B_kl = calc_Bkl(N,i,j)\n",
    "            dct[i,j] = np.sum(B_kl * imgarr)\n",
    "    return dct\n",
    "\n",
    "def idct2D(imgarr):\n",
    "    N = imgarr.shape[0]\n",
    "    p = np.zeros((N,N))\n",
    "    for k in range(N):\n",
    "        for l in range(N):\n",
    "            p += calc_Bkl(N,k,l) * imgarr[k,l]\n",
    "    return p\n",
    "    \n",
    "\n",
    "def plotheat():\n",
    "    a = np.random.random((16, 16))\n",
    "    plt.imshow(a, cmap='hot', interpolation='nearest')\n",
    "    plt.show()\n",
    "\n",
    "# not that great...\n",
    "def plotcos2dwire(N, n, k):\n",
    "    fig = plt.figure()\n",
    "    ax = fig.add_subplot(projection='3d')\n",
    "    \n",
    "    # Data\n",
    "    x = np.linspace(0,N,1000)\n",
    "    y = np.linspace(0,N,1000)\n",
    "    X, Y = np.meshgrid(x,y)\n",
    "    Z = np.cos(n*np.pi*(2*X+1)/(2*N)) * np.cos(k*np.pi*(2*Y+1)/(2*N))\n",
    "    \n",
    "    # Plot a basic wireframe.\n",
    "    ax.plot_wireframe(X,Y,Z, rcount = N, ccount = N)\n",
    "    \n",
    "    plt.show()\n",
    "\n",
    "def plotcos2dheat(N,k,l):\n",
    "    # x, y = np.meshgrid(np.linspace(0,N,N), np.linspace(0,N,N))\n",
    "    z = calc_Bkl(N,k,l)\n",
    "    if k == 0 and l == 0:\n",
    "        plt.imshow(z, cmap='Greys', interpolation='nearest')\n",
    "    else:\n",
    "        plt.imshow(z, cmap='Greys_r', interpolation='nearest')\n",
    "    plt.show()\n",
    "    return z\n",
    "    \n",
    "def readimggray(path):\n",
    "    img = np.array(Image.open(path).convert('L'))\n",
    "    plt.imshow(img, cmap=plt.get_cmap('gray'))\n",
    "    return img\n"
   ]
  },
  {
   "cell_type": "code",
   "execution_count": 34,
   "id": "550e7c56-630d-4798-bb18-671d294bf06e",
   "metadata": {},
   "outputs": [
    {
     "data": {
      "image/png": "[encoded data removed]",
      "text/plain": [
       "<Figure size 640x480 with 1 Axes>"
      ]
     },
     "metadata": {},
     "output_type": "display_data"
    }
   ],
   "source": [
    "# print(transform(s))\n",
    "# print(sc.fftpack.dct(s,norm='ortho'))\n",
    "# s = [1,2,4,7,8,4,3,2]\n",
    "\n",
    "# z1 = plotcos2dheat(8,6,4)\n",
    "# z2 = plotcos2dheat(8,6,4)\n",
    "\n",
    "img = readimggray(\"test2.png\")\n",
    "# plt.imshow(img, cmap=plt.get_cmap('gray'))\n",
    "dct = dct2D(img)\n",
    "matrix = np.absolute(dct)\n",
    "min_k = np.amin(matrix)\n",
    "max_k = np.amax(matrix)\n",
    "plt.imshow(matrix[:32,:32], cmap=plt.get_cmap('magma'))\n",
    "#plt.imshow(matrix[:32,:32], cmap=plt.get_cmap('magma'), norm=colors.LogNorm())\n",
    "out = idct2D(dct)\n",
    "# plt.imshow(out, cmap=plt.get_cmap('gray'))"
   ]
  },
  {
   "cell_type": "code",
   "execution_count": null,
   "id": "c9bdafa3-6a1c-4410-8c52-84ce5c88a556",
   "metadata": {},
   "outputs": [],
   "source": []
  },
  {
   "cell_type": "code",
   "execution_count": null,
   "id": "04f548d8-beae-456a-b13b-5bd4037ba1cd",
   "metadata": {},
   "outputs": [],
   "source": []
  }
 ],
 "metadata": {
  "kernelspec": {
   "display_name": "Python 3 (ipykernel)",
   "language": "python",
   "name": "python3"
  },
  "language_info": {
   "codemirror_mode": {
    "name": "ipython",
    "version": 3
   },
   "file_extension": ".py",
   "mimetype": "text/x-python",
   "name": "python",
   "nbconvert_exporter": "python",
   "pygments_lexer": "ipython3",
   "version": "3.12.5"
  }
 },
 "nbformat": 4,
 "nbformat_minor": 5
}
